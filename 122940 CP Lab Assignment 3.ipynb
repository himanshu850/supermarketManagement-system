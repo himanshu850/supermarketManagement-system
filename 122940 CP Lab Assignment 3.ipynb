{
 "cells": [
  {
   "cell_type": "code",
   "execution_count": null,
   "id": "3e817601",
   "metadata": {},
   "outputs": [],
   "source": [
    "# Prompting the user to enter their details"
   ]
  },
  {
   "cell_type": "code",
   "execution_count": 28,
   "id": "537d5e0f",
   "metadata": {
    "scrolled": true
   },
   "outputs": [
    {
     "name": "stdout",
     "output_type": "stream",
     "text": [
      "Enter your full name: Radhika Subhash\n",
      "Enter you DOB (YYY-MM-DD): 2000-07-05\n",
      "Enter your day of birth: 5\n",
      "Enter your month of birth (in number): 7\n",
      "Enter your ID Number: 37555226\n",
      "Enter you telephone number: 0733934733\n",
      "\n",
      "\n",
      "Radhika Subhash , Welcome to the ABC Family! You are now enrolled to our loyal points program. Enjoy shopping with us :)\n",
      "\n",
      "Name:            Radhika Subhash\n",
      "DOB:             2000-07-05\n",
      "Birth Day:       5\n",
      "Birth Month:     7\n",
      "ID No:           37555226\n",
      "Tel No:          0733934733\n"
     ]
    }
   ],
   "source": [
    "Name = input(\"Enter your full name: \")\n",
    "DOB = input(\"Enter you DOB (YYY-MM-DD): \")\n",
    "Day = int(input(\"Enter your day of birth: \"))\n",
    "Month = int(input(\"Enter your month of birth (in number): \"))\n",
    "ID_Number = int(input(\"Enter your ID Number: \"))\n",
    "Tel = input(\"Enter you telephone number: \")\n",
    "\n",
    "print(\"\")\n",
    "print(\"\")\n",
    "print(Name, \", Welcome to the ABC Family! You are now enrolled to our loyal points program. Enjoy shopping with us :)\")\n",
    "print(\"\")\n",
    "print(\"CUSTOMER INFORMATION\")\n",
    "print(\"Name:           \", Name)\n",
    "print(\"DOB:            \", DOB)\n",
    "print(\"ID No:          \", ID_Number)\n",
    "print(\"Tel No:         \", Tel)\n"
   ]
  },
  {
   "cell_type": "code",
   "execution_count": null,
   "id": "24169a31",
   "metadata": {},
   "outputs": [],
   "source": [
    "# Giving Discount to customer with birthday today"
   ]
  },
  {
   "cell_type": "code",
   "execution_count": 29,
   "id": "5e71d80e",
   "metadata": {},
   "outputs": [
    {
     "name": "stdout",
     "output_type": "stream",
     "text": [
      "Happy Birthday Radhika Subhash , You get a 10% discount today!!\n"
     ]
    }
   ],
   "source": [
    "import datetime\n",
    "b_day = datetime.datetime.today().day\n",
    "b_month = datetime.datetime.today().month\n",
    "\n",
    "if (Day == b_day) and (Month == b_month):\n",
    "    print(\"Happy Birthday\",Name,\", You get a 10% discount today!!\")"
   ]
  },
  {
   "cell_type": "code",
   "execution_count": null,
   "id": "d2e6849c",
   "metadata": {},
   "outputs": [],
   "source": [
    "# Asking whether the customer has a personal bag"
   ]
  },
  {
   "cell_type": "code",
   "execution_count": 30,
   "id": "35fc1d9f",
   "metadata": {},
   "outputs": [
    {
     "name": "stdout",
     "output_type": "stream",
     "text": [
      "Do you have a personal bag? Input yes or no: yes\n",
      "\n",
      "Place you bag in compartment:  A\n"
     ]
    }
   ],
   "source": [
    "def my_function(bag):\n",
    "    \"This function asks if the customer has a personal bag and allocates a compartment number if they have a personal bag\"\n",
    "    Empty_Compartments = ['A', 'B', 'C', 'D', 'E', 'F', 'G', 'H', 'I', 'J']\n",
    "    if bag == \"yes\":\n",
    "        print(\"Place you bag in compartment: \",Empty_Compartments[0])\n",
    "    else:\n",
    "        print(\"You may proceed. Happy Shopping!!\")\n",
    "    return\n",
    "\n",
    "bag = input(\"Do you have a personal bag? Input yes or no: \")\n",
    "print(\"\")\n",
    "my_function(bag)"
   ]
  },
  {
   "cell_type": "code",
   "execution_count": null,
   "id": "c027aef4",
   "metadata": {},
   "outputs": [],
   "source": [
    "# Redeeming Loyalty Points"
   ]
  },
  {
   "cell_type": "code",
   "execution_count": 31,
   "id": "3d234611",
   "metadata": {},
   "outputs": [
    {
     "name": "stdout",
     "output_type": "stream",
     "text": [
      "Do you want to redeem your points? Input yes or no: yes\n",
      "Enter the number of points you wish to redeem: 100\n",
      "You have redeemed Ksh: 100\n"
     ]
    }
   ],
   "source": [
    "def my_function(points):\n",
    "    if points == \"yes\":\n",
    "        points_redeemed = input(\"Enter the number of points you wish to redeem: \")\n",
    "        amount_redeemed = points_redeemed *1\n",
    "        return amount_redeemed\n",
    "    else:\n",
    "        print(\"Okay\")\n",
    "        \n",
    "points = input(\"Do you want to redeem your points? Input yes or no: \")\n",
    "print(\"You have redeemed Ksh:\",my_function(points))"
   ]
  },
  {
   "cell_type": "code",
   "execution_count": null,
   "id": "fbba314a",
   "metadata": {},
   "outputs": [],
   "source": [
    "# Available Payment Options"
   ]
  },
  {
   "cell_type": "code",
   "execution_count": 36,
   "id": "db2a9880",
   "metadata": {},
   "outputs": [
    {
     "name": "stdout",
     "output_type": "stream",
     "text": [
      "AVAILABLE PAYMENT OPTIONs\n",
      "1. Cash\n",
      "2. M-Pesa\n",
      "3. Visa-Card\n",
      "\n",
      "Which payment method do you want to use: 1\n",
      "\n",
      "Please input the total amount of goods purchased: 200\n",
      "\n",
      "The customer has chosen Cash as a payment option, therefore they have not received a discount\n"
     ]
    }
   ],
   "source": [
    "print (\"AVAILABLE PAYMENT OPTIONs\")\n",
    "print ('1. Cash')\n",
    "print ('2. M-Pesa')\n",
    "print ('3. Visa-Card')\n",
    "print(\"\")\n",
    "Payment_Method = input(\"Which payment method do you want to use: \")\n",
    "print(\"\")\n",
    "Amount_of_goods_purchased = int(input(\"Please input the total amount of goods purchased: \"))\n",
    "Calulating_Discount = Amount_of_goods_purchased * 0.02\n",
    "print(\"\")\n",
    "\n",
    "if Payment_Method == \"1\":\n",
    "    print(\"The customer has chosen Cash as a payment option, therefore they have not received a discount\")\n",
    "    Calulating_Discount = Amount_of_goods_purchased * 0\n",
    "elif Payment_Method == \"2\":\n",
    "    print(\"The customer has chosen M-Pesa as a payment option, therefore they have received a discount of\", Calulating_Discount)\n",
    "    Calulating_Discount = Amount_of_goods_purchased * 0.02\n",
    "elif Payment_Method == \"3\":\n",
    "    print(\"The customer has chosen Visa Card as a payment option, therefore they have received a discount of\", Calulating_Discount)\n",
    "    Calulating_Discount = Amount_of_goods_purchased * 0.02\n",
    "else:\n",
    "    print(\"Invalid Selection\")"
   ]
  },
  {
   "cell_type": "raw",
   "id": "a3abc9f1",
   "metadata": {},
   "source": [
    "# Awarding Loyalty Points on Amount Spent"
   ]
  },
  {
   "cell_type": "code",
   "execution_count": 50,
   "id": "605835d4",
   "metadata": {},
   "outputs": [
    {
     "name": "stdout",
     "output_type": "stream",
     "text": [
      "Enter amount spent: 7200\n",
      "Total points awarded:  83.0\n"
     ]
    }
   ],
   "source": [
    "def my_function(amount_spent):\n",
    "    \"This function awards points to customer based on amount spent\"\n",
    "    if (amount_spent >= 100 and amount_spent <= 5000):\n",
    "        points_awarded = ((amount_spent/100) * 1)\n",
    "        return points_awarded\n",
    "    elif amount_spent > 5000:\n",
    "        points_awarded = ((5000/100 * 1) + ((amount_spent-5000)/100 * 1.5))\n",
    "        return points_awarded\n",
    "    else:\n",
    "        print(\"Amount not eligible for points\")\n",
    "    return\n",
    "\n",
    "amount_spent = int(input(\"Enter amount spent: \"))\n",
    "print(\"Total points awarded: \", my_function(amount_spent))"
   ]
  },
  {
   "cell_type": "code",
   "execution_count": null,
   "id": "56cf1dbd",
   "metadata": {},
   "outputs": [],
   "source": [
    "# Printing the final receipt"
   ]
  },
  {
   "cell_type": "code",
   "execution_count": null,
   "id": "81441772",
   "metadata": {},
   "outputs": [],
   "source": [
    "print(\"ABC Supermarket\")\n",
    "print(\"Name of the customer: \", Name)\n",
    "date_today = datetime.datetime.now()\n",
    "print(\"Date & Time: \", date_today)\n",
    "print(\"Amount: \", Amount_of_goods_purchased)\n",
    "print(\"Points Awarded: \", points_awarded)\n",
    "print(\"Loyalty Points Bal: \", (points_awarded - points_redeemed)\n",
    "if (Day == b_day) and (Month == b_month):\n",
    "    print(\"Happy Birthday\")"
   ]
  }
 ],
 "metadata": {
  "kernelspec": {
   "display_name": "Python 3 (ipykernel)",
   "language": "python",
   "name": "python3"
  },
  "language_info": {
   "codemirror_mode": {
    "name": "ipython",
    "version": 3
   },
   "file_extension": ".py",
   "mimetype": "text/x-python",
   "name": "python",
   "nbconvert_exporter": "python",
   "pygments_lexer": "ipython3",
   "version": "3.9.12"
  }
 },
 "nbformat": 4,
 "nbformat_minor": 5
}
